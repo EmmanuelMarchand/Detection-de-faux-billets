{
 "cells": [
  {
   "cell_type": "markdown",
   "metadata": {
    "id": "vz6eKJZ3_7Bu"
   },
   "source": [
    "<div style=\"display: flex; background-color: RGB(255,114,0);\" >\n",
    "<h1 style=\"margin: auto; padding: 30px; \">DETECTER DES FAUX BILLETS - APPLICATION</h1>\n",
    "</div>"
   ]
  },
  {
   "cell_type": "markdown",
   "metadata": {
    "id": "KqInQRMaALzd"
   },
   "source": [
    "\n",
    "Pour aider l’ONCFM, qui met en place des méthodes d’identification des faux billets en euros pour lutter contre la contrefaçon, nous devons mettre à disposition une application de machine learning qui fera une prédiction sur la nature du billet (Vari ou Faux)\n",
    "<br><br>\n",
    "\n",
    "##PARTIE 2 - MODELE EN PRODUCTION\n",
    "\n",
    "**Fonctionnement** :\n",
    "+ Etape 1 :  Saisir le nom du fichier de production\n",
    "+ Etape 2 :  Consulter les résutats du modèle\n",
    "\n"
   ]
  },
  {
   "cell_type": "markdown",
   "metadata": {
    "id": "NAnmH7miBJKl"
   },
   "source": [
    "----------------------------------------------------------"
   ]
  },
  {
   "cell_type": "code",
   "execution_count": 1,
   "metadata": {
    "colab": {
     "base_uri": "https://localhost:8080/",
     "height": 206
    },
    "id": "YvhskCflPjbQ",
    "outputId": "6d8827eb-bd24-46d3-9d46-2d03c380d8e2"
   },
   "outputs": [
    {
     "data": {
      "text/html": [
       "<div>\n",
       "<style scoped>\n",
       "    .dataframe tbody tr th:only-of-type {\n",
       "        vertical-align: middle;\n",
       "    }\n",
       "\n",
       "    .dataframe tbody tr th {\n",
       "        vertical-align: top;\n",
       "    }\n",
       "\n",
       "    .dataframe thead th {\n",
       "        text-align: right;\n",
       "    }\n",
       "</style>\n",
       "<table border=\"1\" class=\"dataframe\">\n",
       "  <thead>\n",
       "    <tr style=\"text-align: right;\">\n",
       "      <th></th>\n",
       "      <th>diagonal</th>\n",
       "      <th>height_left</th>\n",
       "      <th>height_right</th>\n",
       "      <th>margin_low</th>\n",
       "      <th>margin_up</th>\n",
       "      <th>length</th>\n",
       "      <th>id</th>\n",
       "      <th>is_genuine</th>\n",
       "      <th>probability</th>\n",
       "    </tr>\n",
       "  </thead>\n",
       "  <tbody>\n",
       "    <tr>\n",
       "      <th>0</th>\n",
       "      <td>171.76</td>\n",
       "      <td>104.01</td>\n",
       "      <td>103.54</td>\n",
       "      <td>5.21</td>\n",
       "      <td>3.30</td>\n",
       "      <td>111.42</td>\n",
       "      <td>A_1</td>\n",
       "      <td>0</td>\n",
       "      <td>0.002583</td>\n",
       "    </tr>\n",
       "    <tr>\n",
       "      <th>1</th>\n",
       "      <td>171.87</td>\n",
       "      <td>104.17</td>\n",
       "      <td>104.13</td>\n",
       "      <td>6.00</td>\n",
       "      <td>3.31</td>\n",
       "      <td>112.09</td>\n",
       "      <td>A_2</td>\n",
       "      <td>0</td>\n",
       "      <td>0.000305</td>\n",
       "    </tr>\n",
       "    <tr>\n",
       "      <th>2</th>\n",
       "      <td>172.00</td>\n",
       "      <td>104.58</td>\n",
       "      <td>104.29</td>\n",
       "      <td>4.99</td>\n",
       "      <td>3.39</td>\n",
       "      <td>111.57</td>\n",
       "      <td>A_3</td>\n",
       "      <td>0</td>\n",
       "      <td>0.000415</td>\n",
       "    </tr>\n",
       "    <tr>\n",
       "      <th>3</th>\n",
       "      <td>172.49</td>\n",
       "      <td>104.55</td>\n",
       "      <td>104.34</td>\n",
       "      <td>4.44</td>\n",
       "      <td>3.03</td>\n",
       "      <td>113.20</td>\n",
       "      <td>A_4</td>\n",
       "      <td>1</td>\n",
       "      <td>0.841786</td>\n",
       "    </tr>\n",
       "    <tr>\n",
       "      <th>4</th>\n",
       "      <td>171.65</td>\n",
       "      <td>103.63</td>\n",
       "      <td>103.56</td>\n",
       "      <td>3.77</td>\n",
       "      <td>3.16</td>\n",
       "      <td>113.33</td>\n",
       "      <td>A_5</td>\n",
       "      <td>1</td>\n",
       "      <td>0.999220</td>\n",
       "    </tr>\n",
       "  </tbody>\n",
       "</table>\n",
       "</div>"
      ],
      "text/plain": [
       "   diagonal  height_left  height_right  margin_low  margin_up  length   id  \\\n",
       "0    171.76       104.01        103.54        5.21       3.30  111.42  A_1   \n",
       "1    171.87       104.17        104.13        6.00       3.31  112.09  A_2   \n",
       "2    172.00       104.58        104.29        4.99       3.39  111.57  A_3   \n",
       "3    172.49       104.55        104.34        4.44       3.03  113.20  A_4   \n",
       "4    171.65       103.63        103.56        3.77       3.16  113.33  A_5   \n",
       "\n",
       "   is_genuine  probability  \n",
       "0           0     0.002583  \n",
       "1           0     0.000305  \n",
       "2           0     0.000415  \n",
       "3           1     0.841786  \n",
       "4           1     0.999220  "
      ]
     },
     "metadata": {},
     "output_type": "display_data"
    }
   ],
   "source": [
    "# @title\n",
    "# Importation de  Pandas et du modèle Regression  logistique\n",
    "import pandas as pd\n",
    "from sklearn.linear_model import LogisticRegression\n",
    "\n",
    "def detect_faux_billets(modele, production_file):\n",
    "  X_test = production_file.drop('id', axis=1)               # chargement fichier production\n",
    "  y_pred = modele.predict(X_test)                           # prédictions\n",
    "  y_proba = modele.predict_proba(X_test)[:, 1]              # probabilités pour la classe 1 (vrai)\n",
    "  results = pd.DataFrame({'is_genuine': y_pred, 'probability': y_proba})    # Stockage des prédictions dans un dataframe\n",
    "  detection = pd.concat([production_file, results], axis=1)     # Fusion des résultats dans le fichier de production\n",
    "  return detection\n",
    "\n",
    "\n",
    "# Chargement du fichier de production\n",
    "# Saisir le nom du fichier de production\n",
    "fproduction = pd.read_csv('billets_production.csv', delimiter=',')\n",
    "\n",
    "# Entrainement du modèle de regression logistique\n",
    "train = pd.read_csv('billets_train.csv', delimiter=',')\n",
    "X = train.drop('is_genuine', axis=1)\n",
    "Y = train['is_genuine'].astype(int).values       # on transforme le bolléen en 1 pour vrai et 0 pour faux\n",
    "clf = LogisticRegression(random_state=808).fit(X, Y)\n",
    "\n",
    "\n",
    "# Afficher le résultat\n",
    "display(detect_faux_billets(clf, fproduction))\n"
   ]
  }
 ],
 "metadata": {
  "colab": {
   "provenance": []
  },
  "kernelspec": {
   "display_name": "Python 3 (ipykernel)",
   "language": "python",
   "name": "python3"
  },
  "language_info": {
   "codemirror_mode": {
    "name": "ipython",
    "version": 3
   },
   "file_extension": ".py",
   "mimetype": "text/x-python",
   "name": "python",
   "nbconvert_exporter": "python",
   "pygments_lexer": "ipython3",
   "version": "3.11.5"
  }
 },
 "nbformat": 4,
 "nbformat_minor": 1
}
